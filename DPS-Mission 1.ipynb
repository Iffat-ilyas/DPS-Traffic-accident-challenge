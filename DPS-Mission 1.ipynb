{
  "nbformat": 4,
  "nbformat_minor": 0,
  "metadata": {
    "colab": {
      "provenance": [],
      "authorship_tag": "ABX9TyPZDAwEbHX2IttNJ90+oBuU",
      "include_colab_link": true
    },
    "kernelspec": {
      "name": "python3",
      "display_name": "Python 3"
    },
    "language_info": {
      "name": "python"
    }
  },
  "cells": [
    {
      "cell_type": "markdown",
      "metadata": {
        "id": "view-in-github",
        "colab_type": "text"
      },
      "source": [
        "<a href=\"https://colab.research.google.com/github/Iffat-ilyas/DPS-Traffic-accident-challenge/blob/main/DPS-Mission%201.ipynb\" target=\"_parent\"><img src=\"https://colab.research.google.com/assets/colab-badge.svg\" alt=\"Open In Colab\"/></a>"
      ]
    },
    {
      "cell_type": "markdown",
      "source": [
        "\n",
        "\n",
        "# **DPS Challenge task for AI-track: Batch No. 20**\n",
        "\n",
        " *Iffat Ilyas*\n",
        "\n",
        "This notebook seeks to predict alcohol traffic accidents.\n",
        "\n"
      ],
      "metadata": {
        "id": "KoNh7jI0Okjs"
      }
    },
    {
      "cell_type": "markdown",
      "source": [
        "\n",
        "\n",
        "## 1.   Data Loading and Exploration\n",
        "\n",
        "First, we connect to our GoogleDrive, where our datasets are stored. Then we load the important libraries.\n"
      ],
      "metadata": {
        "id": "UOzmyIIfTdxD"
      }
    },
    {
      "cell_type": "code",
      "execution_count": null,
      "metadata": {
        "colab": {
          "base_uri": "https://localhost:8080/"
        },
        "id": "D3RnjK7crA4L",
        "outputId": "b6f59e42-f8f8-488f-807a-0131a31afb69"
      },
      "outputs": [
        {
          "output_type": "stream",
          "name": "stdout",
          "text": [
            "Mounted at /content/drive\n"
          ]
        }
      ],
      "source": [
        "# Connect to GoogleDrive\n",
        "from google.colab import drive\n",
        "\n",
        "# This will prompt for authorization\n",
        "drive.mount('/content/drive')"
      ]
    },
    {
      "cell_type": "code",
      "source": [
        "# Load libraries\n",
        "import numpy as np\n",
        "from numpy import linalg as la\n",
        "import pandas as pd\n",
        "import csv\n",
        "import cv2\n",
        "import seaborn as sns\n",
        "import matplotlib.pyplot as plt\n",
        "from IPython.display import Image\n",
        "from sklearn.preprocessing import LabelBinarizer\n",
        "from sklearn.model_selection import train_test_split"
      ],
      "metadata": {
        "id": "8OM_Z2N-Qt13"
      },
      "execution_count": null,
      "outputs": []
    },
    {
      "cell_type": "code",
      "source": [
        "# Change working directory to where the data is\n",
        "%cd /content/drive/MyDrive/DPS-challenge\n"
      ],
      "metadata": {
        "colab": {
          "base_uri": "https://localhost:8080/"
        },
        "id": "A5kzvv5zQzqr",
        "outputId": "23d4ca62-5284-481a-9c5e-262aad19d417"
      },
      "execution_count": null,
      "outputs": [
        {
          "output_type": "stream",
          "name": "stdout",
          "text": [
            "/content/drive/MyDrive/DPS-challenge\n"
          ]
        }
      ]
    },
    {
      "cell_type": "code",
      "source": [
        "# Check current working directory\n",
        "!pwd"
      ],
      "metadata": {
        "colab": {
          "base_uri": "https://localhost:8080/"
        },
        "id": "NuWi2sAJQuDB",
        "outputId": "85ce256f-d60c-45ad-eed0-2aa4be23a766"
      },
      "execution_count": null,
      "outputs": [
        {
          "output_type": "stream",
          "name": "stdout",
          "text": [
            "/content/drive/MyDrive/DPS-challenge\n"
          ]
        }
      ]
    },
    {
      "cell_type": "markdown",
      "source": [
        "Now we will load the data which is downloaded from the following link address given by DPS hiring team.\n",
        "https://opendata.muenchen.de/dataset/monatszahlen-verkehrsunfaelle/resource/40094bd6-f82d-4979-949b-26c8dc00b9a7"
      ],
      "metadata": {
        "id": "YLQwBbcpWIjC"
      }
    },
    {
      "cell_type": "code",
      "source": [
        "# Use panda to read csv file\n",
        "df = pd.read_csv('data.csv')\n",
        "#df = df.sort_values('label')\n",
        "df.head()"
      ],
      "metadata": {
        "colab": {
          "base_uri": "https://localhost:8080/",
          "height": 270
        },
        "id": "Ftg4oal2TNvl",
        "outputId": "25d94c08-b516-4730-a849-a43cb8ac0b08"
      },
      "execution_count": null,
      "outputs": [
        {
          "output_type": "execute_result",
          "data": {
            "text/plain": [
              "       MONATSZAHL AUSPRÄGUNG  JAHR   MONAT  WERT  VORJAHRESWERT  \\\n",
              "0  Alkoholunfälle  insgesamt  2022  202201   NaN           16.0   \n",
              "1  Alkoholunfälle  insgesamt  2022  202202   NaN           14.0   \n",
              "2  Alkoholunfälle  insgesamt  2022  202203   NaN           24.0   \n",
              "3  Alkoholunfälle  insgesamt  2022  202204   NaN           16.0   \n",
              "4  Alkoholunfälle  insgesamt  2022  202205   NaN           24.0   \n",
              "\n",
              "   VERÄND_VORMONAT_PROZENT  VERÄND_VORJAHRESMONAT_PROZENT  \\\n",
              "0                      NaN                            NaN   \n",
              "1                      NaN                            NaN   \n",
              "2                      NaN                            NaN   \n",
              "3                      NaN                            NaN   \n",
              "4                      NaN                            NaN   \n",
              "\n",
              "   ZWÖLF_MONATE_MITTELWERT  \n",
              "0                      NaN  \n",
              "1                      NaN  \n",
              "2                      NaN  \n",
              "3                      NaN  \n",
              "4                      NaN  "
            ],
            "text/html": [
              "\n",
              "\n",
              "  <div id=\"df-7434c0c8-2263-4068-8410-b61c26b26a91\">\n",
              "    <div class=\"colab-df-container\">\n",
              "      <div>\n",
              "<style scoped>\n",
              "    .dataframe tbody tr th:only-of-type {\n",
              "        vertical-align: middle;\n",
              "    }\n",
              "\n",
              "    .dataframe tbody tr th {\n",
              "        vertical-align: top;\n",
              "    }\n",
              "\n",
              "    .dataframe thead th {\n",
              "        text-align: right;\n",
              "    }\n",
              "</style>\n",
              "<table border=\"1\" class=\"dataframe\">\n",
              "  <thead>\n",
              "    <tr style=\"text-align: right;\">\n",
              "      <th></th>\n",
              "      <th>MONATSZAHL</th>\n",
              "      <th>AUSPRÄGUNG</th>\n",
              "      <th>JAHR</th>\n",
              "      <th>MONAT</th>\n",
              "      <th>WERT</th>\n",
              "      <th>VORJAHRESWERT</th>\n",
              "      <th>VERÄND_VORMONAT_PROZENT</th>\n",
              "      <th>VERÄND_VORJAHRESMONAT_PROZENT</th>\n",
              "      <th>ZWÖLF_MONATE_MITTELWERT</th>\n",
              "    </tr>\n",
              "  </thead>\n",
              "  <tbody>\n",
              "    <tr>\n",
              "      <th>0</th>\n",
              "      <td>Alkoholunfälle</td>\n",
              "      <td>insgesamt</td>\n",
              "      <td>2022</td>\n",
              "      <td>202201</td>\n",
              "      <td>NaN</td>\n",
              "      <td>16.0</td>\n",
              "      <td>NaN</td>\n",
              "      <td>NaN</td>\n",
              "      <td>NaN</td>\n",
              "    </tr>\n",
              "    <tr>\n",
              "      <th>1</th>\n",
              "      <td>Alkoholunfälle</td>\n",
              "      <td>insgesamt</td>\n",
              "      <td>2022</td>\n",
              "      <td>202202</td>\n",
              "      <td>NaN</td>\n",
              "      <td>14.0</td>\n",
              "      <td>NaN</td>\n",
              "      <td>NaN</td>\n",
              "      <td>NaN</td>\n",
              "    </tr>\n",
              "    <tr>\n",
              "      <th>2</th>\n",
              "      <td>Alkoholunfälle</td>\n",
              "      <td>insgesamt</td>\n",
              "      <td>2022</td>\n",
              "      <td>202203</td>\n",
              "      <td>NaN</td>\n",
              "      <td>24.0</td>\n",
              "      <td>NaN</td>\n",
              "      <td>NaN</td>\n",
              "      <td>NaN</td>\n",
              "    </tr>\n",
              "    <tr>\n",
              "      <th>3</th>\n",
              "      <td>Alkoholunfälle</td>\n",
              "      <td>insgesamt</td>\n",
              "      <td>2022</td>\n",
              "      <td>202204</td>\n",
              "      <td>NaN</td>\n",
              "      <td>16.0</td>\n",
              "      <td>NaN</td>\n",
              "      <td>NaN</td>\n",
              "      <td>NaN</td>\n",
              "    </tr>\n",
              "    <tr>\n",
              "      <th>4</th>\n",
              "      <td>Alkoholunfälle</td>\n",
              "      <td>insgesamt</td>\n",
              "      <td>2022</td>\n",
              "      <td>202205</td>\n",
              "      <td>NaN</td>\n",
              "      <td>24.0</td>\n",
              "      <td>NaN</td>\n",
              "      <td>NaN</td>\n",
              "      <td>NaN</td>\n",
              "    </tr>\n",
              "  </tbody>\n",
              "</table>\n",
              "</div>\n",
              "      <button class=\"colab-df-convert\" onclick=\"convertToInteractive('df-7434c0c8-2263-4068-8410-b61c26b26a91')\"\n",
              "              title=\"Convert this dataframe to an interactive table.\"\n",
              "              style=\"display:none;\">\n",
              "\n",
              "  <svg xmlns=\"http://www.w3.org/2000/svg\" height=\"24px\"viewBox=\"0 0 24 24\"\n",
              "       width=\"24px\">\n",
              "    <path d=\"M0 0h24v24H0V0z\" fill=\"none\"/>\n",
              "    <path d=\"M18.56 5.44l.94 2.06.94-2.06 2.06-.94-2.06-.94-.94-2.06-.94 2.06-2.06.94zm-11 1L8.5 8.5l.94-2.06 2.06-.94-2.06-.94L8.5 2.5l-.94 2.06-2.06.94zm10 10l.94 2.06.94-2.06 2.06-.94-2.06-.94-.94-2.06-.94 2.06-2.06.94z\"/><path d=\"M17.41 7.96l-1.37-1.37c-.4-.4-.92-.59-1.43-.59-.52 0-1.04.2-1.43.59L10.3 9.45l-7.72 7.72c-.78.78-.78 2.05 0 2.83L4 21.41c.39.39.9.59 1.41.59.51 0 1.02-.2 1.41-.59l7.78-7.78 2.81-2.81c.8-.78.8-2.07 0-2.86zM5.41 20L4 18.59l7.72-7.72 1.47 1.35L5.41 20z\"/>\n",
              "  </svg>\n",
              "      </button>\n",
              "\n",
              "\n",
              "\n",
              "    <div id=\"df-542e5272-c480-43ae-af6e-9bb1d3f1eceb\">\n",
              "      <button class=\"colab-df-quickchart\" onclick=\"quickchart('df-542e5272-c480-43ae-af6e-9bb1d3f1eceb')\"\n",
              "              title=\"Suggest charts.\"\n",
              "              style=\"display:none;\">\n",
              "\n",
              "<svg xmlns=\"http://www.w3.org/2000/svg\" height=\"24px\"viewBox=\"0 0 24 24\"\n",
              "     width=\"24px\">\n",
              "    <g>\n",
              "        <path d=\"M19 3H5c-1.1 0-2 .9-2 2v14c0 1.1.9 2 2 2h14c1.1 0 2-.9 2-2V5c0-1.1-.9-2-2-2zM9 17H7v-7h2v7zm4 0h-2V7h2v10zm4 0h-2v-4h2v4z\"/>\n",
              "    </g>\n",
              "</svg>\n",
              "      </button>\n",
              "    </div>\n",
              "\n",
              "<style>\n",
              "  .colab-df-quickchart {\n",
              "    background-color: #E8F0FE;\n",
              "    border: none;\n",
              "    border-radius: 50%;\n",
              "    cursor: pointer;\n",
              "    display: none;\n",
              "    fill: #1967D2;\n",
              "    height: 32px;\n",
              "    padding: 0 0 0 0;\n",
              "    width: 32px;\n",
              "  }\n",
              "\n",
              "  .colab-df-quickchart:hover {\n",
              "    background-color: #E2EBFA;\n",
              "    box-shadow: 0px 1px 2px rgba(60, 64, 67, 0.3), 0px 1px 3px 1px rgba(60, 64, 67, 0.15);\n",
              "    fill: #174EA6;\n",
              "  }\n",
              "\n",
              "  [theme=dark] .colab-df-quickchart {\n",
              "    background-color: #3B4455;\n",
              "    fill: #D2E3FC;\n",
              "  }\n",
              "\n",
              "  [theme=dark] .colab-df-quickchart:hover {\n",
              "    background-color: #434B5C;\n",
              "    box-shadow: 0px 1px 3px 1px rgba(0, 0, 0, 0.15);\n",
              "    filter: drop-shadow(0px 1px 2px rgba(0, 0, 0, 0.3));\n",
              "    fill: #FFFFFF;\n",
              "  }\n",
              "</style>\n",
              "\n",
              "    <script>\n",
              "      async function quickchart(key) {\n",
              "        const containerElement = document.querySelector('#' + key);\n",
              "        const charts = await google.colab.kernel.invokeFunction(\n",
              "            'suggestCharts', [key], {});\n",
              "      }\n",
              "    </script>\n",
              "\n",
              "      <script>\n",
              "\n",
              "function displayQuickchartButton(domScope) {\n",
              "  let quickchartButtonEl =\n",
              "    domScope.querySelector('#df-542e5272-c480-43ae-af6e-9bb1d3f1eceb button.colab-df-quickchart');\n",
              "  quickchartButtonEl.style.display =\n",
              "    google.colab.kernel.accessAllowed ? 'block' : 'none';\n",
              "}\n",
              "\n",
              "        displayQuickchartButton(document);\n",
              "      </script>\n",
              "      <style>\n",
              "    .colab-df-container {\n",
              "      display:flex;\n",
              "      flex-wrap:wrap;\n",
              "      gap: 12px;\n",
              "    }\n",
              "\n",
              "    .colab-df-convert {\n",
              "      background-color: #E8F0FE;\n",
              "      border: none;\n",
              "      border-radius: 50%;\n",
              "      cursor: pointer;\n",
              "      display: none;\n",
              "      fill: #1967D2;\n",
              "      height: 32px;\n",
              "      padding: 0 0 0 0;\n",
              "      width: 32px;\n",
              "    }\n",
              "\n",
              "    .colab-df-convert:hover {\n",
              "      background-color: #E2EBFA;\n",
              "      box-shadow: 0px 1px 2px rgba(60, 64, 67, 0.3), 0px 1px 3px 1px rgba(60, 64, 67, 0.15);\n",
              "      fill: #174EA6;\n",
              "    }\n",
              "\n",
              "    [theme=dark] .colab-df-convert {\n",
              "      background-color: #3B4455;\n",
              "      fill: #D2E3FC;\n",
              "    }\n",
              "\n",
              "    [theme=dark] .colab-df-convert:hover {\n",
              "      background-color: #434B5C;\n",
              "      box-shadow: 0px 1px 3px 1px rgba(0, 0, 0, 0.15);\n",
              "      filter: drop-shadow(0px 1px 2px rgba(0, 0, 0, 0.3));\n",
              "      fill: #FFFFFF;\n",
              "    }\n",
              "  </style>\n",
              "\n",
              "      <script>\n",
              "        const buttonEl =\n",
              "          document.querySelector('#df-7434c0c8-2263-4068-8410-b61c26b26a91 button.colab-df-convert');\n",
              "        buttonEl.style.display =\n",
              "          google.colab.kernel.accessAllowed ? 'block' : 'none';\n",
              "\n",
              "        async function convertToInteractive(key) {\n",
              "          const element = document.querySelector('#df-7434c0c8-2263-4068-8410-b61c26b26a91');\n",
              "          const dataTable =\n",
              "            await google.colab.kernel.invokeFunction('convertToInteractive',\n",
              "                                                     [key], {});\n",
              "          if (!dataTable) return;\n",
              "\n",
              "          const docLinkHtml = 'Like what you see? Visit the ' +\n",
              "            '<a target=\"_blank\" href=https://colab.research.google.com/notebooks/data_table.ipynb>data table notebook</a>'\n",
              "            + ' to learn more about interactive tables.';\n",
              "          element.innerHTML = '';\n",
              "          dataTable['output_type'] = 'display_data';\n",
              "          await google.colab.output.renderOutput(dataTable, element);\n",
              "          const docLink = document.createElement('div');\n",
              "          docLink.innerHTML = docLinkHtml;\n",
              "          element.appendChild(docLink);\n",
              "        }\n",
              "      </script>\n",
              "    </div>\n",
              "  </div>\n"
            ]
          },
          "metadata": {},
          "execution_count": 6
        }
      ]
    },
    {
      "cell_type": "code",
      "source": [
        "#to see the  overview of dataset\n",
        "print(df.info())"
      ],
      "metadata": {
        "colab": {
          "base_uri": "https://localhost:8080/"
        },
        "id": "OmeUl0lHWVWR",
        "outputId": "40376ef8-e5b5-4085-d233-903784741609"
      },
      "execution_count": null,
      "outputs": [
        {
          "output_type": "stream",
          "name": "stdout",
          "text": [
            "<class 'pandas.core.frame.DataFrame'>\n",
            "RangeIndex: 2086 entries, 0 to 2085\n",
            "Data columns (total 9 columns):\n",
            " #   Column                         Non-Null Count  Dtype  \n",
            "---  ------                         --------------  -----  \n",
            " 0   MONATSZAHL                     2086 non-null   object \n",
            " 1   AUSPRÄGUNG                     2086 non-null   object \n",
            " 2   JAHR                           2086 non-null   int64  \n",
            " 3   MONAT                          2086 non-null   object \n",
            " 4   WERT                           2002 non-null   float64\n",
            " 5   VORJAHRESWERT                  1995 non-null   float64\n",
            " 6   VERÄND_VORMONAT_PROZENT        1840 non-null   float64\n",
            " 7   VERÄND_VORJAHRESMONAT_PROZENT  1910 non-null   float64\n",
            " 8   ZWÖLF_MONATE_MITTELWERT        1848 non-null   float64\n",
            "dtypes: float64(5), int64(1), object(3)\n",
            "memory usage: 146.8+ KB\n",
            "None\n"
          ]
        }
      ]
    },
    {
      "cell_type": "markdown",
      "source": [
        "Now we will find out how many null/NaN values the columns have."
      ],
      "metadata": {
        "id": "qNSrkmBQXuyi"
      }
    },
    {
      "cell_type": "code",
      "source": [
        "#print the missing values\n",
        "print(df.isnull().sum())\n"
      ],
      "metadata": {
        "colab": {
          "base_uri": "https://localhost:8080/"
        },
        "id": "P-qoapSTXxnq",
        "outputId": "645c00a9-b242-405f-b2d3-0dad223ee1e0"
      },
      "execution_count": null,
      "outputs": [
        {
          "output_type": "stream",
          "name": "stdout",
          "text": [
            "MONATSZAHL                         0\n",
            "AUSPRÄGUNG                         0\n",
            "JAHR                               0\n",
            "MONAT                              0\n",
            "WERT                              84\n",
            "VORJAHRESWERT                     91\n",
            "VERÄND_VORMONAT_PROZENT          246\n",
            "VERÄND_VORJAHRESMONAT_PROZENT    176\n",
            "ZWÖLF_MONATE_MITTELWERT          238\n",
            "dtype: int64\n"
          ]
        }
      ]
    },
    {
      "cell_type": "code",
      "source": [
        "#drop the rows with missing columns so we can have clean dataset\n",
        "df.dropna(inplace=True)\n",
        "df.head()"
      ],
      "metadata": {
        "colab": {
          "base_uri": "https://localhost:8080/",
          "height": 270
        },
        "id": "tm9lpCtEn3Kq",
        "outputId": "9f112d75-1a90-47a0-da47-2b2dafa294c6"
      },
      "execution_count": null,
      "outputs": [
        {
          "output_type": "execute_result",
          "data": {
            "text/plain": [
              "        MONATSZAHL AUSPRÄGUNG  JAHR   MONAT  WERT  VORJAHRESWERT  \\\n",
              "13  Alkoholunfälle  insgesamt  2021  202101  16.0           28.0   \n",
              "14  Alkoholunfälle  insgesamt  2021  202102  14.0           40.0   \n",
              "15  Alkoholunfälle  insgesamt  2021  202103  24.0           27.0   \n",
              "16  Alkoholunfälle  insgesamt  2021  202104  16.0           26.0   \n",
              "17  Alkoholunfälle  insgesamt  2021  202105  24.0           40.0   \n",
              "\n",
              "    VERÄND_VORMONAT_PROZENT  VERÄND_VORJAHRESMONAT_PROZENT  \\\n",
              "13                    23.08                         -42.86   \n",
              "14                   -12.50                         -65.00   \n",
              "15                    71.43                         -11.11   \n",
              "16                   -33.33                         -38.46   \n",
              "17                    50.00                         -40.00   \n",
              "\n",
              "    ZWÖLF_MONATE_MITTELWERT  \n",
              "13                     35.0  \n",
              "14                     33.0  \n",
              "15                     32.0  \n",
              "16                     32.0  \n",
              "17                     30.0  "
            ],
            "text/html": [
              "\n",
              "\n",
              "  <div id=\"df-85fe0205-ca91-443b-973b-e9730cb68d83\">\n",
              "    <div class=\"colab-df-container\">\n",
              "      <div>\n",
              "<style scoped>\n",
              "    .dataframe tbody tr th:only-of-type {\n",
              "        vertical-align: middle;\n",
              "    }\n",
              "\n",
              "    .dataframe tbody tr th {\n",
              "        vertical-align: top;\n",
              "    }\n",
              "\n",
              "    .dataframe thead th {\n",
              "        text-align: right;\n",
              "    }\n",
              "</style>\n",
              "<table border=\"1\" class=\"dataframe\">\n",
              "  <thead>\n",
              "    <tr style=\"text-align: right;\">\n",
              "      <th></th>\n",
              "      <th>MONATSZAHL</th>\n",
              "      <th>AUSPRÄGUNG</th>\n",
              "      <th>JAHR</th>\n",
              "      <th>MONAT</th>\n",
              "      <th>WERT</th>\n",
              "      <th>VORJAHRESWERT</th>\n",
              "      <th>VERÄND_VORMONAT_PROZENT</th>\n",
              "      <th>VERÄND_VORJAHRESMONAT_PROZENT</th>\n",
              "      <th>ZWÖLF_MONATE_MITTELWERT</th>\n",
              "    </tr>\n",
              "  </thead>\n",
              "  <tbody>\n",
              "    <tr>\n",
              "      <th>13</th>\n",
              "      <td>Alkoholunfälle</td>\n",
              "      <td>insgesamt</td>\n",
              "      <td>2021</td>\n",
              "      <td>202101</td>\n",
              "      <td>16.0</td>\n",
              "      <td>28.0</td>\n",
              "      <td>23.08</td>\n",
              "      <td>-42.86</td>\n",
              "      <td>35.0</td>\n",
              "    </tr>\n",
              "    <tr>\n",
              "      <th>14</th>\n",
              "      <td>Alkoholunfälle</td>\n",
              "      <td>insgesamt</td>\n",
              "      <td>2021</td>\n",
              "      <td>202102</td>\n",
              "      <td>14.0</td>\n",
              "      <td>40.0</td>\n",
              "      <td>-12.50</td>\n",
              "      <td>-65.00</td>\n",
              "      <td>33.0</td>\n",
              "    </tr>\n",
              "    <tr>\n",
              "      <th>15</th>\n",
              "      <td>Alkoholunfälle</td>\n",
              "      <td>insgesamt</td>\n",
              "      <td>2021</td>\n",
              "      <td>202103</td>\n",
              "      <td>24.0</td>\n",
              "      <td>27.0</td>\n",
              "      <td>71.43</td>\n",
              "      <td>-11.11</td>\n",
              "      <td>32.0</td>\n",
              "    </tr>\n",
              "    <tr>\n",
              "      <th>16</th>\n",
              "      <td>Alkoholunfälle</td>\n",
              "      <td>insgesamt</td>\n",
              "      <td>2021</td>\n",
              "      <td>202104</td>\n",
              "      <td>16.0</td>\n",
              "      <td>26.0</td>\n",
              "      <td>-33.33</td>\n",
              "      <td>-38.46</td>\n",
              "      <td>32.0</td>\n",
              "    </tr>\n",
              "    <tr>\n",
              "      <th>17</th>\n",
              "      <td>Alkoholunfälle</td>\n",
              "      <td>insgesamt</td>\n",
              "      <td>2021</td>\n",
              "      <td>202105</td>\n",
              "      <td>24.0</td>\n",
              "      <td>40.0</td>\n",
              "      <td>50.00</td>\n",
              "      <td>-40.00</td>\n",
              "      <td>30.0</td>\n",
              "    </tr>\n",
              "  </tbody>\n",
              "</table>\n",
              "</div>\n",
              "      <button class=\"colab-df-convert\" onclick=\"convertToInteractive('df-85fe0205-ca91-443b-973b-e9730cb68d83')\"\n",
              "              title=\"Convert this dataframe to an interactive table.\"\n",
              "              style=\"display:none;\">\n",
              "\n",
              "  <svg xmlns=\"http://www.w3.org/2000/svg\" height=\"24px\"viewBox=\"0 0 24 24\"\n",
              "       width=\"24px\">\n",
              "    <path d=\"M0 0h24v24H0V0z\" fill=\"none\"/>\n",
              "    <path d=\"M18.56 5.44l.94 2.06.94-2.06 2.06-.94-2.06-.94-.94-2.06-.94 2.06-2.06.94zm-11 1L8.5 8.5l.94-2.06 2.06-.94-2.06-.94L8.5 2.5l-.94 2.06-2.06.94zm10 10l.94 2.06.94-2.06 2.06-.94-2.06-.94-.94-2.06-.94 2.06-2.06.94z\"/><path d=\"M17.41 7.96l-1.37-1.37c-.4-.4-.92-.59-1.43-.59-.52 0-1.04.2-1.43.59L10.3 9.45l-7.72 7.72c-.78.78-.78 2.05 0 2.83L4 21.41c.39.39.9.59 1.41.59.51 0 1.02-.2 1.41-.59l7.78-7.78 2.81-2.81c.8-.78.8-2.07 0-2.86zM5.41 20L4 18.59l7.72-7.72 1.47 1.35L5.41 20z\"/>\n",
              "  </svg>\n",
              "      </button>\n",
              "\n",
              "\n",
              "\n",
              "    <div id=\"df-be04c8fb-d57a-46ff-8cfb-76411aec889d\">\n",
              "      <button class=\"colab-df-quickchart\" onclick=\"quickchart('df-be04c8fb-d57a-46ff-8cfb-76411aec889d')\"\n",
              "              title=\"Suggest charts.\"\n",
              "              style=\"display:none;\">\n",
              "\n",
              "<svg xmlns=\"http://www.w3.org/2000/svg\" height=\"24px\"viewBox=\"0 0 24 24\"\n",
              "     width=\"24px\">\n",
              "    <g>\n",
              "        <path d=\"M19 3H5c-1.1 0-2 .9-2 2v14c0 1.1.9 2 2 2h14c1.1 0 2-.9 2-2V5c0-1.1-.9-2-2-2zM9 17H7v-7h2v7zm4 0h-2V7h2v10zm4 0h-2v-4h2v4z\"/>\n",
              "    </g>\n",
              "</svg>\n",
              "      </button>\n",
              "    </div>\n",
              "\n",
              "<style>\n",
              "  .colab-df-quickchart {\n",
              "    background-color: #E8F0FE;\n",
              "    border: none;\n",
              "    border-radius: 50%;\n",
              "    cursor: pointer;\n",
              "    display: none;\n",
              "    fill: #1967D2;\n",
              "    height: 32px;\n",
              "    padding: 0 0 0 0;\n",
              "    width: 32px;\n",
              "  }\n",
              "\n",
              "  .colab-df-quickchart:hover {\n",
              "    background-color: #E2EBFA;\n",
              "    box-shadow: 0px 1px 2px rgba(60, 64, 67, 0.3), 0px 1px 3px 1px rgba(60, 64, 67, 0.15);\n",
              "    fill: #174EA6;\n",
              "  }\n",
              "\n",
              "  [theme=dark] .colab-df-quickchart {\n",
              "    background-color: #3B4455;\n",
              "    fill: #D2E3FC;\n",
              "  }\n",
              "\n",
              "  [theme=dark] .colab-df-quickchart:hover {\n",
              "    background-color: #434B5C;\n",
              "    box-shadow: 0px 1px 3px 1px rgba(0, 0, 0, 0.15);\n",
              "    filter: drop-shadow(0px 1px 2px rgba(0, 0, 0, 0.3));\n",
              "    fill: #FFFFFF;\n",
              "  }\n",
              "</style>\n",
              "\n",
              "    <script>\n",
              "      async function quickchart(key) {\n",
              "        const containerElement = document.querySelector('#' + key);\n",
              "        const charts = await google.colab.kernel.invokeFunction(\n",
              "            'suggestCharts', [key], {});\n",
              "      }\n",
              "    </script>\n",
              "\n",
              "      <script>\n",
              "\n",
              "function displayQuickchartButton(domScope) {\n",
              "  let quickchartButtonEl =\n",
              "    domScope.querySelector('#df-be04c8fb-d57a-46ff-8cfb-76411aec889d button.colab-df-quickchart');\n",
              "  quickchartButtonEl.style.display =\n",
              "    google.colab.kernel.accessAllowed ? 'block' : 'none';\n",
              "}\n",
              "\n",
              "        displayQuickchartButton(document);\n",
              "      </script>\n",
              "      <style>\n",
              "    .colab-df-container {\n",
              "      display:flex;\n",
              "      flex-wrap:wrap;\n",
              "      gap: 12px;\n",
              "    }\n",
              "\n",
              "    .colab-df-convert {\n",
              "      background-color: #E8F0FE;\n",
              "      border: none;\n",
              "      border-radius: 50%;\n",
              "      cursor: pointer;\n",
              "      display: none;\n",
              "      fill: #1967D2;\n",
              "      height: 32px;\n",
              "      padding: 0 0 0 0;\n",
              "      width: 32px;\n",
              "    }\n",
              "\n",
              "    .colab-df-convert:hover {\n",
              "      background-color: #E2EBFA;\n",
              "      box-shadow: 0px 1px 2px rgba(60, 64, 67, 0.3), 0px 1px 3px 1px rgba(60, 64, 67, 0.15);\n",
              "      fill: #174EA6;\n",
              "    }\n",
              "\n",
              "    [theme=dark] .colab-df-convert {\n",
              "      background-color: #3B4455;\n",
              "      fill: #D2E3FC;\n",
              "    }\n",
              "\n",
              "    [theme=dark] .colab-df-convert:hover {\n",
              "      background-color: #434B5C;\n",
              "      box-shadow: 0px 1px 3px 1px rgba(0, 0, 0, 0.15);\n",
              "      filter: drop-shadow(0px 1px 2px rgba(0, 0, 0, 0.3));\n",
              "      fill: #FFFFFF;\n",
              "    }\n",
              "  </style>\n",
              "\n",
              "      <script>\n",
              "        const buttonEl =\n",
              "          document.querySelector('#df-85fe0205-ca91-443b-973b-e9730cb68d83 button.colab-df-convert');\n",
              "        buttonEl.style.display =\n",
              "          google.colab.kernel.accessAllowed ? 'block' : 'none';\n",
              "\n",
              "        async function convertToInteractive(key) {\n",
              "          const element = document.querySelector('#df-85fe0205-ca91-443b-973b-e9730cb68d83');\n",
              "          const dataTable =\n",
              "            await google.colab.kernel.invokeFunction('convertToInteractive',\n",
              "                                                     [key], {});\n",
              "          if (!dataTable) return;\n",
              "\n",
              "          const docLinkHtml = 'Like what you see? Visit the ' +\n",
              "            '<a target=\"_blank\" href=https://colab.research.google.com/notebooks/data_table.ipynb>data table notebook</a>'\n",
              "            + ' to learn more about interactive tables.';\n",
              "          element.innerHTML = '';\n",
              "          dataTable['output_type'] = 'display_data';\n",
              "          await google.colab.output.renderOutput(dataTable, element);\n",
              "          const docLink = document.createElement('div');\n",
              "          docLink.innerHTML = docLinkHtml;\n",
              "          element.appendChild(docLink);\n",
              "        }\n",
              "      </script>\n",
              "    </div>\n",
              "  </div>\n"
            ]
          },
          "metadata": {},
          "execution_count": 9
        }
      ]
    },
    {
      "cell_type": "markdown",
      "source": [
        "   Now we will find out more about the timeframe our dataset covers."
      ],
      "metadata": {
        "id": "i1_5AWjfYcSc"
      }
    },
    {
      "cell_type": "code",
      "source": [
        "# Checking the date format\n",
        "df['JAHR'].head()"
      ],
      "metadata": {
        "colab": {
          "base_uri": "https://localhost:8080/"
        },
        "id": "4LvLL5cxX7NT",
        "outputId": "3118ff64-1d71-45fd-d0a9-d361812b874c"
      },
      "execution_count": null,
      "outputs": [
        {
          "output_type": "execute_result",
          "data": {
            "text/plain": [
              "13    2021\n",
              "14    2021\n",
              "15    2021\n",
              "16    2021\n",
              "17    2021\n",
              "Name: JAHR, dtype: int64"
            ]
          },
          "metadata": {},
          "execution_count": 10
        }
      ]
    },
    {
      "cell_type": "markdown",
      "source": [
        "Our first task is to drop entries after 2020 to predict the model. So we will filter the data frame and include only entries upto 2020."
      ],
      "metadata": {
        "id": "HgJkp8WApetI"
      }
    },
    {
      "cell_type": "code",
      "source": [
        "# Filter the DataFrame to include only entries up to 2020\n",
        "f_df = df[df['JAHR'] <= 2020]\n",
        "#check the filtered data now to confirm if all entried are dropped or not\n",
        "f_df['JAHR'].head()"
      ],
      "metadata": {
        "colab": {
          "base_uri": "https://localhost:8080/"
        },
        "id": "cOZZi7xkn375",
        "outputId": "f5fafd7c-32d9-4471-8055-dfa365cdf355"
      },
      "execution_count": null,
      "outputs": [
        {
          "output_type": "execute_result",
          "data": {
            "text/plain": [
              "26    2020\n",
              "27    2020\n",
              "28    2020\n",
              "29    2020\n",
              "30    2020\n",
              "Name: JAHR, dtype: int64"
            ]
          },
          "metadata": {},
          "execution_count": 11
        }
      ]
    },
    {
      "cell_type": "code",
      "source": [
        "#checking one more time the earliest and latest date\n",
        "earliest_date = f_df['JAHR'].min()\n",
        "latest_date = f_df['JAHR'].max()\n",
        "\n",
        "print(\"Earliest Date:\", earliest_date)\n",
        "print(\"Latest Date:\", latest_date)"
      ],
      "metadata": {
        "colab": {
          "base_uri": "https://localhost:8080/"
        },
        "id": "g6xPKsRXp41F",
        "outputId": "535ead6e-30e4-4320-8542-3ed855ff3291"
      },
      "execution_count": null,
      "outputs": [
        {
          "output_type": "stream",
          "name": "stdout",
          "text": [
            "Earliest Date: 2001\n",
            "Latest Date: 2020\n"
          ]
        }
      ]
    },
    {
      "cell_type": "code",
      "source": [
        "#checking unique data\n",
        "f_df['JAHR'].unique()"
      ],
      "metadata": {
        "colab": {
          "base_uri": "https://localhost:8080/"
        },
        "id": "oe5AOjILqLv2",
        "outputId": "1afa84a8-037d-4a38-df9f-8f9027760944"
      },
      "execution_count": null,
      "outputs": [
        {
          "output_type": "execute_result",
          "data": {
            "text/plain": [
              "array([2020, 2019, 2018, 2017, 2016, 2015, 2014, 2013, 2012, 2011, 2010,\n",
              "       2009, 2008, 2007, 2006, 2005, 2004, 2003, 2002, 2001])"
            ]
          },
          "metadata": {},
          "execution_count": 13
        }
      ]
    },
    {
      "cell_type": "markdown",
      "source": [
        "Now we confrimed that all entries after 2020 are dropped from data so, we will check one more time for missing values, just to be sure about them."
      ],
      "metadata": {
        "id": "viGpen8RqdBn"
      }
    },
    {
      "cell_type": "code",
      "source": [
        "#checking null values\n",
        "print(df.isnull().sum())\n",
        "#f_df.head()"
      ],
      "metadata": {
        "colab": {
          "base_uri": "https://localhost:8080/"
        },
        "id": "_HwTunr8qWCT",
        "outputId": "c84dd9a4-0694-482f-e248-4065fb19b8dc"
      },
      "execution_count": null,
      "outputs": [
        {
          "output_type": "stream",
          "name": "stdout",
          "text": [
            "MONATSZAHL                       0\n",
            "AUSPRÄGUNG                       0\n",
            "JAHR                             0\n",
            "MONAT                            0\n",
            "WERT                             0\n",
            "VORJAHRESWERT                    0\n",
            "VERÄND_VORMONAT_PROZENT          0\n",
            "VERÄND_VORJAHRESMONAT_PROZENT    0\n",
            "ZWÖLF_MONATE_MITTELWERT          0\n",
            "dtype: int64\n"
          ]
        }
      ]
    },
    {
      "cell_type": "markdown",
      "source": [
        "No null or missing values so now we will see all unique values in each column to get better overview of dataset."
      ],
      "metadata": {
        "id": "bq0p_pl0tCKH"
      }
    },
    {
      "cell_type": "code",
      "source": [
        "#to display all the unique values in each column of the DataFrame.\n",
        "for column in f_df.columns:\n",
        "    unique_values = f_df[column].unique()\n",
        "    print(f\"Unique values in column '{column}': {unique_values}\")\n"
      ],
      "metadata": {
        "colab": {
          "base_uri": "https://localhost:8080/"
        },
        "id": "84MZrtXqsAAF",
        "outputId": "586e3d7c-8abd-4f79-adcf-bb6099a9b564"
      },
      "execution_count": null,
      "outputs": [
        {
          "output_type": "stream",
          "name": "stdout",
          "text": [
            "Unique values in column 'MONATSZAHL': ['Alkoholunfälle' 'Fluchtunfälle' 'Verkehrsunfälle']\n",
            "Unique values in column 'AUSPRÄGUNG': ['insgesamt' 'Verletzte und Getötete' 'mit Personenschäden']\n",
            "Unique values in column 'JAHR': [2020 2019 2018 2017 2016 2015 2014 2013 2012 2011 2010 2009 2008 2007\n",
            " 2006 2005 2004 2003 2002 2001]\n",
            "Unique values in column 'MONAT': ['202001' '202002' '202003' '202004' '202005' '202006' '202007' '202008'\n",
            " '202009' '202010' '202011' '202012' '201901' '201902' '201903' '201904'\n",
            " '201905' '201906' '201907' '201908' '201909' '201910' '201911' '201912'\n",
            " '201801' '201802' '201803' '201804' '201805' '201806' '201807' '201808'\n",
            " '201809' '201810' '201811' '201812' '201701' '201702' '201703' '201704'\n",
            " '201705' '201706' '201707' '201708' '201709' '201710' '201711' '201712'\n",
            " '201601' '201602' '201603' '201604' '201605' '201606' '201607' '201608'\n",
            " '201609' '201610' '201611' '201612' '201501' '201502' '201503' '201504'\n",
            " '201505' '201506' '201507' '201508' '201509' '201510' '201511' '201512'\n",
            " '201401' '201402' '201403' '201404' '201405' '201406' '201407' '201408'\n",
            " '201409' '201410' '201411' '201412' '201301' '201302' '201303' '201304'\n",
            " '201305' '201306' '201307' '201308' '201309' '201310' '201311' '201312'\n",
            " '201201' '201202' '201203' '201204' '201205' '201206' '201207' '201208'\n",
            " '201209' '201210' '201211' '201212' '201101' '201102' '201103' '201104'\n",
            " '201105' '201106' '201107' '201108' '201109' '201110' '201111' '201112'\n",
            " '201001' '201002' '201003' '201004' '201005' '201006' '201007' '201008'\n",
            " '201009' '201010' '201011' '201012' '200901' '200902' '200903' '200904'\n",
            " '200905' '200906' '200907' '200908' '200909' '200910' '200911' '200912'\n",
            " '200801' '200802' '200803' '200804' '200805' '200806' '200807' '200808'\n",
            " '200809' '200810' '200811' '200812' '200701' '200702' '200703' '200704'\n",
            " '200705' '200706' '200707' '200708' '200709' '200710' '200711' '200712'\n",
            " '200601' '200602' '200603' '200604' '200605' '200606' '200607' '200608'\n",
            " '200609' '200610' '200611' '200612' '200501' '200502' '200503' '200504'\n",
            " '200505' '200506' '200507' '200508' '200509' '200510' '200511' '200512'\n",
            " '200401' '200402' '200403' '200404' '200405' '200406' '200407' '200408'\n",
            " '200409' '200410' '200411' '200412' '200301' '200302' '200303' '200304'\n",
            " '200305' '200306' '200307' '200308' '200309' '200310' '200311' '200312'\n",
            " '200201' '200202' '200203' '200204' '200205' '200206' '200207' '200208'\n",
            " '200209' '200210' '200211' '200212' '200101' '200102' '200103' '200104'\n",
            " '200105' '200106' '200107' '200108' '200109' '200110' '200111' '200112']\n",
            "Unique values in column 'WERT': [2.800e+01 4.000e+01 2.700e+01 2.600e+01 4.900e+01 5.800e+01 4.600e+01\n",
            " 3.400e+01 2.300e+01 1.300e+01 2.200e+01 3.600e+01 3.900e+01 4.800e+01\n",
            " 3.100e+01 4.700e+01 4.500e+01 2.900e+01 3.500e+01 2.400e+01 3.200e+01\n",
            " 2.500e+01 5.100e+01 4.300e+01 2.100e+01 1.900e+01 4.100e+01 5.200e+01\n",
            " 3.000e+01 3.300e+01 4.200e+01 1.000e+01 2.000e+01 5.000e+01 1.700e+01\n",
            " 3.700e+01 1.500e+01 1.800e+01 5.400e+01 5.600e+01 5.500e+01 1.400e+01\n",
            " 5.700e+01 4.400e+01 3.800e+01 6.300e+01 6.500e+01 5.300e+01 6.400e+01\n",
            " 7.600e+01 6.700e+01 7.900e+01 6.800e+01 8.200e+01 6.600e+01 7.400e+01\n",
            " 6.100e+01 8.400e+01 7.100e+01 1.070e+02 8.300e+01 8.500e+01 6.000e+01\n",
            " 7.700e+01 1.100e+01 9.000e+00 7.000e+00 1.200e+01 8.000e+00 1.600e+01\n",
            " 6.000e+00 4.000e+00 3.000e+00 2.000e+00 0.000e+00 5.000e+00 7.910e+02\n",
            " 8.700e+02 7.440e+02 6.070e+02 8.590e+02 9.050e+02 1.010e+03 7.350e+02\n",
            " 9.480e+02 9.970e+02 8.640e+02 6.940e+02 9.270e+02 8.830e+02 1.005e+03\n",
            " 9.670e+02 1.014e+03 9.940e+02 1.187e+03 8.200e+02 9.960e+02 1.088e+03\n",
            " 9.250e+02 8.600e+02 7.740e+02 9.540e+02 1.034e+03 1.151e+03 8.130e+02\n",
            " 1.102e+03 1.127e+03 9.290e+02 9.000e+02 6.900e+02 8.460e+02 1.060e+03\n",
            " 8.950e+02 1.070e+03 1.064e+03 8.310e+02 1.009e+03 1.052e+03 8.730e+02\n",
            " 7.770e+02 7.750e+02 8.980e+02 9.980e+02 8.500e+02 1.018e+03 1.095e+03\n",
            " 9.580e+02 1.022e+03 9.600e+02 7.810e+02 7.130e+02 9.080e+02 9.660e+02\n",
            " 9.400e+02 9.520e+02 1.176e+03 1.007e+03 1.110e+03 9.910e+02 9.500e+02\n",
            " 7.780e+02 7.420e+02 9.930e+02 9.460e+02 8.800e+02 1.029e+03 8.020e+02\n",
            " 9.360e+02 1.042e+03 9.430e+02 8.300e+02 7.960e+02 7.730e+02 9.060e+02\n",
            " 1.038e+03 8.480e+02 1.055e+03 1.138e+03 1.000e+03 1.074e+03 9.390e+02\n",
            " 8.280e+02 7.140e+02 9.190e+02 1.035e+03 1.041e+03 1.045e+03 8.870e+02\n",
            " 9.210e+02 1.090e+03 9.840e+02 8.100e+02 7.260e+02 7.600e+02 8.350e+02\n",
            " 7.830e+02 9.510e+02 7.900e+02 9.160e+02 8.420e+02 8.320e+02 6.130e+02\n",
            " 6.830e+02 8.290e+02 9.380e+02 7.430e+02 8.140e+02 9.320e+02 7.940e+02\n",
            " 9.550e+02 9.100e+02 8.270e+02 8.610e+02 5.120e+02 7.760e+02 7.680e+02\n",
            " 6.780e+02 7.520e+02 9.530e+02 7.470e+02 7.270e+02 7.930e+02 7.630e+02\n",
            " 8.370e+02 8.710e+02 8.740e+02 6.250e+02 6.570e+02 6.990e+02 6.120e+02\n",
            " 4.110e+02 8.210e+02 8.580e+02 8.040e+02 9.350e+02 7.590e+02 7.970e+02\n",
            " 8.680e+02 7.080e+02 6.980e+02 7.500e+02 4.760e+02 5.650e+02 8.450e+02\n",
            " 7.180e+02 5.990e+02 4.940e+02 7.490e+02 9.610e+02 1.115e+03 9.370e+02\n",
            " 9.020e+02 9.010e+02 8.110e+02 1.086e+03 9.620e+02 8.170e+02 7.230e+02\n",
            " 8.750e+02 8.670e+02 9.700e+02 7.840e+02 9.570e+02 9.030e+02 9.420e+02\n",
            " 5.720e+02 8.540e+02 8.440e+02 8.550e+02 5.620e+02 9.450e+02 8.520e+02\n",
            " 8.970e+02 8.570e+02 9.870e+02 1.026e+03 7.850e+02 1.039e+03 1.019e+03\n",
            " 8.820e+02 7.060e+02 1.081e+03 1.047e+03 1.104e+03 1.001e+03 9.410e+02\n",
            " 8.100e+01 7.200e+01 5.900e+01 7.000e+01 6.200e+01 7.800e+01 7.300e+01\n",
            " 3.139e+03 3.271e+03 2.825e+03 2.251e+03 3.193e+03 3.380e+03 4.031e+03\n",
            " 3.007e+03 3.659e+03 3.867e+03 3.150e+03 2.661e+03 3.440e+03 3.442e+03\n",
            " 3.940e+03 3.781e+03 4.046e+03 3.727e+03 4.763e+03 3.214e+03 4.042e+03\n",
            " 4.348e+03 3.805e+03 3.462e+03 3.328e+03 3.109e+03 3.796e+03 4.016e+03\n",
            " 3.953e+03 4.284e+03 4.547e+03 3.206e+03 4.124e+03 4.468e+03 4.027e+03\n",
            " 3.550e+03 3.320e+03 3.223e+03 4.106e+03 3.533e+03 4.314e+03 3.818e+03\n",
            " 4.355e+03 3.267e+03 4.017e+03 4.198e+03 3.809e+03 3.494e+03 3.297e+03\n",
            " 3.383e+03 3.653e+03 4.209e+03 3.833e+03 4.260e+03 4.478e+03 3.400e+03\n",
            " 4.289e+03 4.297e+03 3.998e+03 3.700e+03 3.326e+03 3.090e+03 3.888e+03\n",
            " 4.022e+03 3.915e+03 3.898e+03 4.729e+03 3.431e+03 4.015e+03 4.467e+03\n",
            " 3.992e+03 3.862e+03 3.410e+03 3.315e+03 3.840e+03 4.346e+03 4.443e+03\n",
            " 3.379e+03 4.137e+03 4.251e+03 3.904e+03 3.919e+03 3.316e+03 3.467e+03\n",
            " 3.712e+03 4.008e+03 3.703e+03 4.641e+03 3.387e+03 4.130e+03 4.533e+03\n",
            " 4.043e+03 3.764e+03 3.176e+03 3.102e+03 3.739e+03 3.667e+03 4.114e+03\n",
            " 4.018e+03 4.281e+03 3.452e+03 3.962e+03 4.146e+03 3.839e+03 3.395e+03\n",
            " 2.775e+03 2.903e+03 3.523e+03 3.529e+03 4.143e+03 3.212e+03 4.074e+03\n",
            " 3.322e+03 3.730e+03 3.830e+03 3.567e+03 3.506e+03 2.346e+03 2.539e+03\n",
            " 3.309e+03 3.202e+03 2.974e+03 2.843e+03 3.524e+03 3.500e+03 3.329e+03\n",
            " 3.413e+03 2.482e+03 3.480e+03 2.744e+03 2.953e+03 3.240e+03 2.876e+03\n",
            " 3.622e+03 2.749e+03 3.252e+03 3.294e+03 2.945e+03 3.171e+03 2.910e+03\n",
            " 3.339e+03 3.428e+03 3.374e+03 2.870e+03 3.683e+03 2.983e+03 2.888e+03\n",
            " 2.735e+03 2.643e+03 2.836e+03 3.292e+03 3.225e+03 2.943e+03 3.414e+03\n",
            " 3.695e+03 3.444e+03 3.184e+03 2.893e+03 2.901e+03 4.165e+03 2.874e+03\n",
            " 3.032e+03 2.853e+03 3.611e+03 2.993e+03 3.233e+03 3.286e+03 3.073e+03\n",
            " 3.419e+03 2.788e+03 3.461e+03 3.560e+03 3.321e+03 3.499e+03 3.631e+03\n",
            " 2.965e+03 3.921e+03 3.503e+03 3.205e+03 3.549e+03 2.969e+03 2.728e+03\n",
            " 3.183e+03 3.378e+03 3.229e+03 3.760e+03 2.926e+03 3.663e+03 3.716e+03\n",
            " 3.449e+03 3.792e+03 2.968e+03 3.060e+03 3.106e+03 3.255e+03 2.837e+03\n",
            " 3.393e+03 3.325e+03 3.527e+03 3.063e+03 2.892e+03 3.142e+03 3.731e+03\n",
            " 3.586e+03 3.960e+03 3.436e+03 3.859e+03 3.023e+03 3.348e+03 3.148e+03\n",
            " 3.970e+03 3.565e+03 4.128e+03 3.715e+03 4.288e+03 3.351e+03 3.939e+03\n",
            " 4.250e+03 3.989e+03 3.010e+02 3.060e+02 2.700e+02 3.140e+02 4.160e+02\n",
            " 4.960e+02 7.170e+02 4.870e+02 5.550e+02 4.890e+02 2.970e+02 2.430e+02\n",
            " 2.890e+02 3.690e+02 4.260e+02 6.150e+02 7.620e+02 4.510e+02 5.330e+02\n",
            " 5.000e+02 3.830e+02 3.260e+02 2.900e+02 2.650e+02 3.310e+02 5.190e+02\n",
            " 5.280e+02 6.220e+02 4.560e+02 5.290e+02 4.070e+02 2.820e+02 2.420e+02\n",
            " 2.770e+02 3.650e+02 5.450e+02 5.680e+02 6.110e+02 4.470e+02 4.300e+02\n",
            " 4.900e+02 3.730e+02 3.070e+02 2.980e+02 3.050e+02 2.990e+02 5.020e+02\n",
            " 5.920e+02 6.230e+02 4.690e+02 6.270e+02 4.480e+02 4.020e+02 3.170e+02\n",
            " 2.630e+02 2.620e+02 3.760e+02 4.950e+02 5.600e+02 4.810e+02 5.090e+02\n",
            " 4.750e+02 3.840e+02 3.240e+02 3.090e+02 4.600e+02 4.550e+02 5.360e+02\n",
            " 5.580e+02 6.540e+02 4.320e+02 5.340e+02 4.010e+02 2.540e+02 2.840e+02\n",
            " 4.400e+02 4.540e+02 5.800e+02 8.120e+02 5.140e+02 5.310e+02 5.100e+02\n",
            " 3.880e+02 3.560e+02 2.730e+02 2.330e+02 4.240e+02 3.940e+02 5.960e+02\n",
            " 5.770e+02 6.320e+02 5.320e+02 4.770e+02 2.480e+02 2.550e+02 2.640e+02\n",
            " 5.050e+02 6.360e+02 3.990e+02 4.410e+02 3.930e+02 3.590e+02 3.150e+02\n",
            " 1.470e+02 2.000e+02 2.910e+02 3.770e+02 3.200e+02 6.190e+02 3.190e+02\n",
            " 2.230e+02 1.840e+02 2.020e+02 3.570e+02 3.710e+02 3.600e+02 3.120e+02\n",
            " 2.600e+02 2.790e+02 2.100e+02 4.450e+02 4.590e+02 2.810e+02 2.300e+02\n",
            " 2.180e+02 2.170e+02 2.930e+02 3.960e+02 4.820e+02 4.440e+02 4.350e+02\n",
            " 3.440e+02 3.850e+02 4.050e+02 3.330e+02 2.370e+02 2.750e+02 4.710e+02\n",
            " 4.060e+02 6.710e+02 4.220e+02 3.860e+02 2.440e+02 2.290e+02 5.210e+02\n",
            " 4.620e+02 2.860e+02 2.400e+02 3.210e+02 4.910e+02 6.460e+02 5.840e+02\n",
            " 5.410e+02 4.650e+02 2.320e+02 3.740e+02 4.290e+02 5.660e+02 5.380e+02\n",
            " 4.610e+02 4.520e+02 4.660e+02 3.280e+02 3.160e+02 4.140e+02 5.370e+02\n",
            " 6.750e+02 7.110e+02 4.790e+02 4.670e+02 3.040e+02 3.540e+02 3.430e+02\n",
            " 6.550e+02 7.550e+02 4.970e+02 5.810e+02 4.360e+02 3.550e+02 3.340e+02\n",
            " 3.630e+02 4.640e+02 5.850e+02 5.630e+02 6.340e+02 3.480e+02 3.110e+02\n",
            " 3.450e+02 4.270e+02 5.150e+02 4.840e+02 7.100e+02 6.090e+02 5.910e+02\n",
            " 4.530e+02 3.780e+02 3.500e+02 6.400e+02 7.320e+02 6.450e+02 6.160e+02\n",
            " 4.850e+02 4.860e+02 4.390e+02 6.310e+02 6.680e+02 5.040e+02 5.460e+02\n",
            " 4.430e+02 3.800e+02 3.510e+02 3.700e+02 6.020e+02 6.910e+02 5.400e+02\n",
            " 5.590e+02 3.810e+02 5.980e+02 6.040e+02 6.730e+02 8.090e+02 6.140e+02\n",
            " 5.690e+02 5.060e+02 4.120e+02 3.720e+02 5.490e+02 6.560e+02 5.170e+02\n",
            " 6.200e+02 6.520e+02 4.130e+02 5.230e+02 5.300e+02 7.340e+02 9.760e+02\n",
            " 6.170e+02 5.950e+02 4.830e+02 4.230e+02 3.380e+02 5.260e+02 7.190e+02\n",
            " 6.810e+02 7.300e+02 6.350e+02 4.250e+02 7.650e+02 4.720e+02 6.370e+02\n",
            " 4.380e+02 1.920e+02 2.470e+02 3.410e+02 2.160e+02 3.890e+02 7.210e+02\n",
            " 5.240e+02 3.400e+02 2.450e+02 5.350e+02 5.560e+02 3.660e+02 3.910e+02\n",
            " 4.730e+02 4.800e+02 2.720e+02 2.680e+02 3.470e+02 5.110e+02 3.640e+02\n",
            " 3.750e+02 3.870e+02 5.640e+02 7.870e+02 5.130e+02 4.680e+02 6.180e+02\n",
            " 7.290e+02 5.820e+02 8.250e+02 4.580e+02 3.100e+02 4.030e+02 6.000e+02\n",
            " 6.590e+02 5.610e+02 3.580e+02 3.080e+02 6.440e+02 4.930e+02 4.310e+02\n",
            " 5.200e+02 8.330e+02 8.650e+02 6.010e+02 6.210e+02 6.300e+02 5.780e+02\n",
            " 6.790e+02 6.430e+02 5.070e+02]\n",
            "Unique values in column 'VORJAHRESWERT': [2.200e+01 2.800e+01 3.400e+01 3.600e+01 3.900e+01 4.000e+01 4.800e+01\n",
            " 3.100e+01 4.700e+01 4.500e+01 2.900e+01 3.500e+01 2.400e+01 3.200e+01\n",
            " 2.500e+01 5.100e+01 4.300e+01 2.100e+01 1.900e+01 2.600e+01 4.100e+01\n",
            " 5.200e+01 3.000e+01 3.300e+01 4.200e+01 1.000e+01 2.000e+01 2.700e+01\n",
            " 2.300e+01 5.000e+01 4.900e+01 1.700e+01 3.700e+01 1.500e+01 1.800e+01\n",
            " 5.400e+01 5.600e+01 5.500e+01 1.400e+01 5.700e+01 4.400e+01 3.800e+01\n",
            " 6.300e+01 6.500e+01 5.300e+01 6.400e+01 7.600e+01 5.800e+01 6.700e+01\n",
            " 7.900e+01 6.800e+01 8.200e+01 6.600e+01 7.400e+01 6.100e+01 8.400e+01\n",
            " 7.100e+01 1.070e+02 8.300e+01 8.500e+01 6.000e+01 7.700e+01 7.800e+01\n",
            " 7.300e+01 9.600e+01 9.900e+01 7.000e+00 1.200e+01 8.000e+00 1.300e+01\n",
            " 1.600e+01 6.000e+00 4.000e+00 3.000e+00 1.100e+01 9.000e+00 2.000e+00\n",
            " 5.000e+00 4.600e+01 9.270e+02 8.830e+02 1.005e+03 9.670e+02 1.014e+03\n",
            " 9.940e+02 1.187e+03 8.200e+02 9.960e+02 1.088e+03 9.250e+02 8.600e+02\n",
            " 7.740e+02 9.540e+02 1.010e+03 1.034e+03 1.151e+03 8.130e+02 1.102e+03\n",
            " 1.127e+03 9.290e+02 9.000e+02 6.900e+02 8.460e+02 1.060e+03 8.950e+02\n",
            " 1.070e+03 9.480e+02 1.064e+03 8.310e+02 1.009e+03 1.052e+03 8.730e+02\n",
            " 7.770e+02 7.750e+02 8.980e+02 9.980e+02 8.500e+02 1.018e+03 1.095e+03\n",
            " 9.580e+02 1.022e+03 9.600e+02 8.700e+02 7.810e+02 7.130e+02 9.080e+02\n",
            " 9.660e+02 9.400e+02 9.520e+02 1.176e+03 8.640e+02 1.007e+03 1.110e+03\n",
            " 9.910e+02 9.500e+02 7.780e+02 7.420e+02 9.930e+02 9.460e+02 8.800e+02\n",
            " 1.029e+03 8.020e+02 9.360e+02 1.042e+03 9.430e+02 8.300e+02 7.960e+02\n",
            " 7.730e+02 9.060e+02 1.038e+03 8.480e+02 1.055e+03 1.138e+03 7.910e+02\n",
            " 1.000e+03 1.074e+03 9.390e+02 8.280e+02 7.140e+02 9.190e+02 1.035e+03\n",
            " 1.041e+03 1.045e+03 8.870e+02 9.210e+02 1.090e+03 9.840e+02 8.100e+02\n",
            " 7.260e+02 7.600e+02 8.350e+02 7.830e+02 9.510e+02 7.900e+02 9.160e+02\n",
            " 8.420e+02 8.320e+02 6.130e+02 6.830e+02 8.290e+02 9.380e+02 7.430e+02\n",
            " 8.140e+02 9.320e+02 7.940e+02 9.550e+02 9.100e+02 8.270e+02 8.610e+02\n",
            " 5.120e+02 6.070e+02 7.760e+02 7.680e+02 6.780e+02 7.520e+02 9.530e+02\n",
            " 7.470e+02 7.270e+02 7.930e+02 7.630e+02 8.370e+02 8.710e+02 8.590e+02\n",
            " 8.740e+02 6.250e+02 6.570e+02 6.990e+02 6.120e+02 4.110e+02 8.210e+02\n",
            " 8.580e+02 8.040e+02 9.350e+02 7.590e+02 7.970e+02 8.680e+02 7.080e+02\n",
            " 6.980e+02 7.500e+02 4.760e+02 5.650e+02 8.450e+02 7.180e+02 5.990e+02\n",
            " 4.940e+02 7.490e+02 9.610e+02 1.115e+03 9.370e+02 9.020e+02 9.010e+02\n",
            " 8.110e+02 1.086e+03 9.620e+02 8.170e+02 7.230e+02 8.750e+02 8.670e+02\n",
            " 9.700e+02 7.840e+02 9.570e+02 9.030e+02 9.420e+02 5.720e+02 8.540e+02\n",
            " 8.440e+02 8.550e+02 5.620e+02 9.450e+02 8.520e+02 8.970e+02 8.570e+02\n",
            " 9.870e+02 1.026e+03 7.850e+02 1.039e+03 1.019e+03 8.820e+02 7.060e+02\n",
            " 1.081e+03 9.050e+02 1.047e+03 1.104e+03 1.001e+03 9.410e+02 8.900e+02\n",
            " 9.740e+02 8.340e+02 8.810e+02 9.780e+02 1.078e+03 1.017e+03 8.100e+01\n",
            " 7.200e+01 5.900e+01 7.000e+01 6.200e+01 6.900e+01 3.440e+03 3.442e+03\n",
            " 3.940e+03 3.781e+03 4.046e+03 3.727e+03 4.763e+03 3.214e+03 4.042e+03\n",
            " 4.348e+03 3.805e+03 3.462e+03 3.328e+03 3.109e+03 3.796e+03 4.016e+03\n",
            " 3.953e+03 4.284e+03 4.547e+03 3.206e+03 4.124e+03 4.468e+03 4.027e+03\n",
            " 3.550e+03 3.320e+03 3.223e+03 4.106e+03 3.533e+03 4.314e+03 3.818e+03\n",
            " 4.355e+03 3.267e+03 4.017e+03 4.198e+03 3.809e+03 3.494e+03 3.297e+03\n",
            " 3.383e+03 3.653e+03 4.209e+03 3.833e+03 4.260e+03 4.478e+03 3.400e+03\n",
            " 4.289e+03 4.297e+03 3.998e+03 3.700e+03 3.326e+03 3.090e+03 3.888e+03\n",
            " 4.022e+03 3.915e+03 3.898e+03 4.729e+03 3.431e+03 4.015e+03 4.467e+03\n",
            " 3.992e+03 3.862e+03 3.410e+03 3.315e+03 3.840e+03 4.346e+03 4.443e+03\n",
            " 3.379e+03 4.137e+03 4.251e+03 3.904e+03 3.919e+03 3.316e+03 3.467e+03\n",
            " 3.712e+03 4.008e+03 3.703e+03 4.641e+03 3.387e+03 4.130e+03 4.533e+03\n",
            " 4.043e+03 3.764e+03 3.176e+03 3.102e+03 3.739e+03 3.667e+03 4.114e+03\n",
            " 4.018e+03 4.281e+03 3.452e+03 3.962e+03 4.146e+03 3.839e+03 3.395e+03\n",
            " 2.775e+03 2.903e+03 3.523e+03 3.529e+03 4.143e+03 3.212e+03 4.074e+03\n",
            " 3.322e+03 3.730e+03 3.830e+03 3.567e+03 3.506e+03 2.346e+03 2.539e+03\n",
            " 3.309e+03 3.202e+03 2.974e+03 3.193e+03 2.843e+03 3.524e+03 3.500e+03\n",
            " 3.329e+03 3.413e+03 2.482e+03 3.480e+03 2.744e+03 2.953e+03 3.240e+03\n",
            " 2.876e+03 3.622e+03 2.749e+03 3.252e+03 3.294e+03 2.945e+03 3.171e+03\n",
            " 2.910e+03 3.339e+03 3.428e+03 3.374e+03 2.870e+03 3.271e+03 3.683e+03\n",
            " 2.983e+03 2.888e+03 2.735e+03 2.643e+03 2.836e+03 3.292e+03 3.225e+03\n",
            " 2.943e+03 3.414e+03 3.695e+03 3.444e+03 3.184e+03 2.893e+03 2.901e+03\n",
            " 4.165e+03 2.874e+03 3.032e+03 2.853e+03 3.611e+03 2.993e+03 3.233e+03\n",
            " 3.286e+03 3.073e+03 3.419e+03 2.788e+03 3.461e+03 3.560e+03 3.321e+03\n",
            " 3.499e+03 3.631e+03 2.965e+03 3.921e+03 3.503e+03 3.205e+03 3.549e+03\n",
            " 2.969e+03 2.728e+03 3.183e+03 3.378e+03 3.229e+03 3.760e+03 2.926e+03\n",
            " 3.663e+03 3.716e+03 3.449e+03 3.792e+03 2.968e+03 3.060e+03 3.106e+03\n",
            " 3.255e+03 3.139e+03 2.837e+03 3.393e+03 3.325e+03 3.527e+03 3.063e+03\n",
            " 2.892e+03 3.380e+03 3.142e+03 3.731e+03 3.586e+03 3.960e+03 3.007e+03\n",
            " 3.436e+03 3.859e+03 3.023e+03 3.348e+03 3.148e+03 3.970e+03 3.565e+03\n",
            " 4.128e+03 3.715e+03 4.288e+03 3.351e+03 3.939e+03 4.250e+03 3.989e+03\n",
            " 3.448e+03 3.181e+03 3.783e+03 3.317e+03 4.123e+03 4.282e+03 3.807e+03\n",
            " 4.117e+03 3.931e+03 3.789e+03 2.430e+02 2.890e+02 3.690e+02 4.260e+02\n",
            " 4.160e+02 6.150e+02 7.620e+02 4.510e+02 5.330e+02 5.000e+02 3.830e+02\n",
            " 3.260e+02 2.900e+02 2.650e+02 3.310e+02 5.190e+02 5.280e+02 6.220e+02\n",
            " 4.560e+02 5.290e+02 4.070e+02 2.820e+02 2.420e+02 2.770e+02 3.650e+02\n",
            " 5.450e+02 5.680e+02 6.110e+02 4.470e+02 4.300e+02 4.900e+02 3.730e+02\n",
            " 3.070e+02 2.980e+02 3.050e+02 2.990e+02 5.020e+02 5.920e+02 6.230e+02\n",
            " 4.690e+02 6.270e+02 4.480e+02 4.020e+02 3.170e+02 2.630e+02 2.620e+02\n",
            " 3.760e+02 4.950e+02 4.870e+02 5.600e+02 4.810e+02 5.090e+02 4.750e+02\n",
            " 3.840e+02 3.240e+02 3.090e+02 4.600e+02 4.550e+02 5.360e+02 5.580e+02\n",
            " 6.540e+02 4.320e+02 5.340e+02 4.010e+02 2.540e+02 2.840e+02 4.400e+02\n",
            " 4.540e+02 5.800e+02 8.120e+02 5.140e+02 5.310e+02 5.100e+02 3.880e+02\n",
            " 3.560e+02 2.730e+02 2.330e+02 4.240e+02 3.940e+02 5.960e+02 5.770e+02\n",
            " 6.320e+02 5.320e+02 4.770e+02 2.480e+02 2.550e+02 2.640e+02 5.050e+02\n",
            " 6.360e+02 3.990e+02 4.410e+02 3.930e+02 3.590e+02 3.150e+02 1.470e+02\n",
            " 2.000e+02 2.910e+02 3.770e+02 3.200e+02 6.190e+02 3.190e+02 2.230e+02\n",
            " 1.840e+02 2.020e+02 3.570e+02 3.710e+02 3.600e+02 3.120e+02 2.600e+02\n",
            " 2.790e+02 2.100e+02 4.450e+02 4.590e+02 2.810e+02 2.300e+02 2.180e+02\n",
            " 2.170e+02 2.930e+02 3.960e+02 4.820e+02 4.440e+02 4.350e+02 3.440e+02\n",
            " 3.850e+02 4.050e+02 3.330e+02 2.370e+02 2.750e+02 3.010e+02 4.710e+02\n",
            " 4.060e+02 6.710e+02 4.220e+02 3.860e+02 2.440e+02 2.290e+02 5.210e+02\n",
            " 4.620e+02 4.960e+02 2.860e+02 2.400e+02 3.210e+02 4.910e+02 6.460e+02\n",
            " 5.840e+02 5.410e+02 4.650e+02 2.320e+02 3.740e+02 4.290e+02 5.660e+02\n",
            " 5.380e+02 4.610e+02 4.520e+02 4.660e+02 3.280e+02 3.160e+02 4.140e+02\n",
            " 5.370e+02 6.750e+02 7.110e+02 4.790e+02 4.670e+02 3.040e+02 3.540e+02\n",
            " 3.430e+02 6.550e+02 7.550e+02 4.970e+02 5.810e+02 4.360e+02 3.290e+02\n",
            " 5.550e+02 6.100e+02 5.250e+02 5.570e+02 4.930e+02 4.030e+02 2.970e+02\n",
            " 3.450e+02 4.270e+02 5.150e+02 4.840e+02 7.100e+02 6.090e+02 5.910e+02\n",
            " 4.530e+02 3.780e+02 3.500e+02 6.400e+02 7.320e+02 6.450e+02 6.160e+02\n",
            " 4.850e+02 3.480e+02 3.340e+02 4.860e+02 4.390e+02 6.310e+02 6.680e+02\n",
            " 5.040e+02 5.460e+02 4.430e+02 3.800e+02 3.510e+02 3.700e+02 6.020e+02\n",
            " 6.910e+02 5.400e+02 5.590e+02 4.890e+02 3.810e+02 5.980e+02 6.040e+02\n",
            " 6.730e+02 8.090e+02 6.140e+02 5.690e+02 5.060e+02 4.120e+02 3.720e+02\n",
            " 5.490e+02 6.560e+02 5.170e+02 6.200e+02 6.520e+02 4.640e+02 4.130e+02\n",
            " 5.230e+02 5.300e+02 7.340e+02 9.760e+02 6.170e+02 5.950e+02 4.830e+02\n",
            " 4.230e+02 3.380e+02 5.260e+02 7.190e+02 6.810e+02 7.300e+02 6.350e+02\n",
            " 4.250e+02 7.650e+02 4.720e+02 6.370e+02 4.380e+02 1.920e+02 2.470e+02\n",
            " 3.410e+02 2.160e+02 3.890e+02 7.210e+02 5.240e+02 3.400e+02 2.450e+02\n",
            " 5.350e+02 5.560e+02 3.660e+02 3.910e+02 3.550e+02 4.730e+02 4.800e+02\n",
            " 2.720e+02 2.680e+02 3.470e+02 5.110e+02 3.640e+02 3.750e+02 3.870e+02\n",
            " 5.640e+02 7.870e+02 5.130e+02 4.680e+02 3.060e+02 6.180e+02 7.290e+02\n",
            " 5.820e+02 8.250e+02 4.580e+02 3.100e+02 6.000e+02 6.590e+02 5.610e+02\n",
            " 3.580e+02 3.080e+02 6.440e+02 4.310e+02 5.200e+02 8.330e+02 8.650e+02\n",
            " 6.010e+02 6.210e+02 6.300e+02 5.630e+02 5.780e+02 6.790e+02 6.430e+02\n",
            " 7.170e+02 5.070e+02 4.340e+02 4.190e+02 6.850e+02 7.440e+02 6.470e+02]\n",
            "Unique values in column 'VERÄND_VORMONAT_PROZENT': [-20.    42.86 -32.5  ...  11.51 -20.78 -10.74]\n",
            "Unique values in column 'VERÄND_VORJAHRESMONAT_PROZENT': [ 27.27  42.86 -20.59 ...  -4.74  -1.73  -1.55]\n",
            "Unique values in column 'ZWÖLF_MONATE_MITTELWERT': [  37.   38.   36.   39.   33.   34.   35.   25.   26.   27.   28.   30.\n",
            "   31.   32.   29.   40.   46.   44.   43.   42.   41.   49.   48.   47.\n",
            "   50.   51.   55.   54.   53.   52.   60.   59.   58.   57.   68.   67.\n",
            "   66.   62.   61.   69.   77.   76.   75.   74.   73.   71.   72.   19.\n",
            "   20.   21.   22.   15.   16.   17.   18.   12.   13.   14.   23.   24.\n",
            "  970.  969.  947.  917.  904.  897.  882.  875.  871.  863.  855.  835.\n",
            "  976.  985.  990.  986.  988.  984.  987.  979.  981.  953.  938.  948.\n",
            "  941.  956.  954.  962.  968.  971.  924.  930.  944.  935.  945.  939.\n",
            "  946.  951.  952.  932.  902.  895.  896.  898.  916.  921.  927.  933.\n",
            "  937.  931.  928.  934.  920.  910.  911.  906.  903.  929.  936.  854.\n",
            "  850.  862.  884.  892.  900.  901.  915.  925.  834.  841.  845.  837.\n",
            "  861.  858.  860.  856.  857.  781.  771.  789.  803.  801.  812.  807.\n",
            "  811.  820.  816.  815.  825.  761.  762.  749.  744.  735.  720.  733.\n",
            "  732.  741.  747.  765.  772.  763.  778.  809.  810.  814.  806.  802.\n",
            "  782.  779.  718.  711.  651.  657.  688.  708.  716.  715.  721.  775.\n",
            "  894.  881.  817.  808.  805.  719.  872.  922.  940.  828.  829.  870.\n",
            "  876.  879.  852.  795.  787.  788.  942.  914.  919.  907.  888.  959.\n",
            "  957.  950.   45.   56. 3809. 3795. 3702. 3574. 3503. 3474. 3413. 3396.\n",
            " 3364. 3324. 3270. 3203. 3877. 3904. 3916. 3897. 3905. 3858. 3876. 3870.\n",
            " 3860. 3842. 3834. 3789. 3779. 3753. 3793. 3763. 3802. 3818. 3813. 3822.\n",
            " 3845. 3863. 3867. 3902. 3888. 3926. 3910. 3873. 3852. 3829. 3821. 3805.\n",
            " 3788. 3884. 3908. 3889. 3928. 3907. 3927. 3913. 3900. 3893. 3875. 3878.\n",
            " 3848. 3872. 3866. 3891. 3886. 3924. 3911. 3937. 3923. 3977. 3939. 3922.\n",
            " 3899. 3887. 3783. 3781. 3775. 3797. 3827. 3836. 3868. 3885. 3543. 3560.\n",
            " 3578. 3589. 3587. 3654. 3671. 3682. 3701. 3728. 3750. 3741. 3193. 3223.\n",
            " 3241. 3268. 3366. 3367. 3397. 3437. 3454. 3482. 3502. 3510. 3110. 3032.\n",
            " 3079. 3100. 3078. 3104. 3112. 3119. 3142. 3137. 3139. 3157. 3158. 3184.\n",
            " 3170. 3138. 3122. 3081. 3091. 3070. 3096. 3231. 3275. 3281. 3285. 3277.\n",
            " 3289. 3279. 3273. 3261. 3260. 3222. 3197. 3181. 3160. 3049. 3084. 3125.\n",
            " 3156. 3153. 3168. 3202. 3233. 3214. 3402. 3356. 3406. 3369. 3345. 3291.\n",
            " 3292. 3234. 3216. 3205. 3194. 3385. 3409. 3420. 3415. 3438. 3427. 3430.\n",
            " 3452. 3434. 3414. 3394. 3211. 3191. 3209. 3215. 3225. 3269. 3299. 3306.\n",
            " 3317. 3339. 3391. 3365. 3362. 3322. 3217. 3195. 3178. 3220. 3786. 3764.\n",
            " 3715. 3680. 3647. 3636. 3609. 3580. 3538. 3506. 3465. 3384. 3700. 3697.\n",
            " 3712. 3733. 3766. 3774. 3785.  448.  449.  441.  431.  422.  418.  421.\n",
            "  423.  415.  410.  452.  454.  457.  440.  444.  443.  439.  426.  425.\n",
            "  419.  430.  434.  455.  458.  456.  437.  446.  438.  459.  453.  450.\n",
            "  445.  451.  473.  474.  481.  479.  466.  460.  461.  462.  442.  433.\n",
            "  408.  405.  409.  400.  397.  412.  420.  432.  362.  368.  375.  385.\n",
            "  401.  398.  395.  399.  406.  336.  330.  337.  339.  328.  333.  345.\n",
            "  349.  354.  360.  361.  353.  329.  332.  365.  358.  351.  348.  347.\n",
            "  390.  388.  402.  382.  376.  374.  366.  356.  436.  414.  404.  396.\n",
            "  428.  435.  429.  411.  424.  465.  427.  494.  491.  490.  488.  485.\n",
            "  482.  483.  468.  476.  477.  478.  486.  487.  499.  498.  493.  500.\n",
            "  496.  525.  526.  518.  506.  504.  492.  475.  540.  541.  545.  536.\n",
            "  523.  521.  522.  520.  517.  508.  514.  515.  529.  531.  539.  543.\n",
            "  546.  544.  528.  527.  530.  509.  505.  548.  550.  542.  537.  533.\n",
            "  532.  534.  549.  538.  535.  551.  555.  572.  575.  586.  580.  564.\n",
            "  553.  558.  557.  556.  524.  512.  484.  480.  413.  489.  403.  386.\n",
            "  380.  394.  389.  393.  391.  392.  416.  467.  501.  511.  510.  513.\n",
            "  507.  579.  569.  570.  568.  559.  620.  616.  615.  610.  596.  609.\n",
            "  604.  603.  595.  589.  591.  593.  606.  621.  617.  614.  623.  622.]\n"
          ]
        }
      ]
    },
    {
      "cell_type": "markdown",
      "source": [
        "It appears that some columns contain numeric values e.g., WERT, VORJAHRESWERT,VERÄND_VORMONAT_PROZENT,VERÄND_VORJAHRESMONAT_PROZENT, ZWÖLF_MONATE_MITTELWERT, while others contain categorical values e.g., MONATSZAHL, AUSPRÄGUNG, MONAT. So now we will visualise our dataset.\n",
        "\n",
        "\n"
      ],
      "metadata": {
        "id": "mCYPFnYJsxmP"
      }
    },
    {
      "cell_type": "markdown",
      "source": [
        "\n",
        "\n",
        "## 2. Data Visualisation\n",
        "\n"
      ],
      "metadata": {
        "id": "BjbiHm0fYIsZ"
      }
    },
    {
      "cell_type": "code",
      "source": [
        "#First of all to visulaise the number of accidents per year we need to group the data by 'JAHR' and calculate the count.\n",
        "grouped_data = f_df.groupby('JAHR').size().reset_index(name='WERT')\n",
        "\n",
        "# Plotting the data\n",
        "plt.figure(figsize=(7, 6))\n",
        "sns.barplot(x='JAHR', y='WERT', data=grouped_data)\n",
        "plt.xlabel('Year')\n",
        "plt.ylabel('Number of Accidents')\n",
        "plt.title('Number of Accidents by Year')\n",
        "plt.xticks(rotation=45)\n",
        "plt.show()"
      ],
      "metadata": {
        "colab": {
          "base_uri": "https://localhost:8080/",
          "height": 585
        },
        "id": "7gigvKi7uU9h",
        "outputId": "b3caba76-ea29-4496-eb1f-a4d4c53a0213"
      },
      "execution_count": null,
      "outputs": [
        {
          "output_type": "display_data",
          "data": {
            "text/plain": [
              "<Figure size 700x600 with 1 Axes>"
            ],
            "image/png": "[encoded data removed]"
          },
          "metadata": {}
        }
      ]
    },
    {
      "cell_type": "code",
      "source": [
        "#To visualise the number of accidents by year and category,\n",
        "# First group the data by 'JAHR' and 'MONATSZAHL' and calculate the count\n",
        "grouped_data = f_df.groupby(['JAHR', 'MONATSZAHL']).size().reset_index(name='Count')\n",
        "\n",
        "# Plotting the data\n",
        "plt.figure(figsize=(10, 6))\n",
        "sns.barplot(x='JAHR', y='Count', hue='MONATSZAHL', data=grouped_data)\n",
        "plt.xlabel('Year')\n",
        "plt.ylabel('Number of Accidents')\n",
        "plt.title('Number of Accidents by Year and Category')\n",
        "plt.xticks(rotation=45)\n",
        "plt.legend(title='Category')\n",
        "plt.show()"
      ],
      "metadata": {
        "colab": {
          "base_uri": "https://localhost:8080/",
          "height": 585
        },
        "id": "gwgfNFHqvRKF",
        "outputId": "46d2e870-676c-412d-c38c-a4eca0cab3f8"
      },
      "execution_count": null,
      "outputs": [
        {
          "output_type": "display_data",
          "data": {
            "text/plain": [
              "<Figure size 1000x600 with 1 Axes>"
            ],
            "image/png": "[encoded data removed]"
          },
          "metadata": {}
        }
      ]
    },
    {
      "cell_type": "code",
      "source": [
        "#Now we will check the injuries caused by number of accidents\n",
        "# Again group the data by 'AUSPRÄGUNG' (cause) and calculate the count\n",
        "grouped_data = f_df.groupby('AUSPRÄGUNG').size().reset_index(name='Count')\n",
        "\n",
        "# Sort the data by the count in descending order\n",
        "grouped_data = grouped_data.sort_values(by='Count', ascending=False)\n",
        "\n",
        "# Plotting the data\n",
        "plt.figure(figsize=(5, 6))\n",
        "sns.barplot(x='AUSPRÄGUNG', y='Count', data=grouped_data)\n",
        "#plt.xlabel('Cause')\n",
        "plt.ylabel('Number of Accidents')\n",
        "#plt.title('Injuries caused by accidents')\n",
        "plt.xticks(rotation=45)\n",
        "plt.show()"
      ],
      "metadata": {
        "colab": {
          "base_uri": "https://localhost:8080/",
          "height": 650
        },
        "id": "-0L1zi2Dv8pi",
        "outputId": "4555a5cb-64dc-4703-f236-231a22959bc1"
      },
      "execution_count": null,
      "outputs": [
        {
          "output_type": "display_data",
          "data": {
            "text/plain": [
              "<Figure size 500x600 with 1 Axes>"
            ],
            "image/png": "[encoded data removed]"
          },
          "metadata": {}
        }
      ]
    },
    {
      "cell_type": "code",
      "source": [
        "#piecharts\n",
        "# Plot pie charts for 'MONATSZAHL' and 'AUSPRÄGUNG'\n",
        "plt.figure(figsize=(9, 10))\n",
        "\n",
        "# Pie chart for 'MONATSZAHL'\n",
        "plt.subplot(1, 2, 1)\n",
        "f_df['MONATSZAHL'].value_counts().plot(kind='pie', autopct='%1.1f%%')\n",
        "plt.ylabel('')\n",
        "plt.title('Distribution of MONATSZAHL')\n",
        "\n",
        "# Pie chart for 'AUSPRÄGUNG'\n",
        "plt.subplot(1, 2, 2)\n",
        "f_df['AUSPRÄGUNG'].value_counts().plot(kind='pie', autopct='%1.1f%%')\n",
        "plt.ylabel('')\n",
        "plt.title('Distribution of AUSPRÄGUNG')\n",
        "\n",
        "plt.tight_layout()\n",
        "plt.show()\n"
      ],
      "metadata": {
        "colab": {
          "base_uri": "https://localhost:8080/",
          "height": 343
        },
        "id": "THktiUGpzFsh",
        "outputId": "40cf568f-598c-4b90-f873-a5e9475e464f"
      },
      "execution_count": null,
      "outputs": [
        {
          "output_type": "display_data",
          "data": {
            "text/plain": [
              "<Figure size 900x1000 with 2 Axes>"
            ],
            "image/png": "[encoded data removed]"
          },
          "metadata": {}
        }
      ]
    },
    {
      "cell_type": "markdown",
      "source": [
        "Based on the given categories traffic accidents, flight accidents, alcohol accidents, the next task is to create a model that forecasts the values for alcohol incidents in 2021."
      ],
      "metadata": {
        "id": "_opC90Y8eA6W"
      }
    },
    {
      "cell_type": "markdown",
      "source": [
        "##Forest Prediction"
      ],
      "metadata": {
        "id": "eFIsVE6A4iGH"
      }
    },
    {
      "cell_type": "code",
      "source": [
        "import joblib\n",
        "from sklearn.ensemble import RandomForestRegressor\n",
        "from sklearn.preprocessing import LabelEncoder\n",
        "# Take user input for features\n",
        "category = 'Alkoholunfälle'\n",
        "accident_type = 'insgesamt'\n",
        "year = '2021'\n",
        "month = '01'\n",
        "\n",
        "# Prepare user input data\n",
        "cat_mapping = {'Verkehrsunfälle': 0, 'Alkoholunfälle': 1, 'Fluchtunfälle': 2}\n",
        "accid_mapping = {'insgesamt': 0, 'Verletzte und Getötete': 1, 'mit Personenschäden': 2}\n",
        "year_encoder = LabelEncoder()\n",
        "month_encoder = LabelEncoder()\n",
        "\n",
        "category_encoded = cat_mapping.get(category, -1)\n",
        "accident_type_encoded = accid_mapping.get(accident_type, -1)\n",
        "year_encoded = year_encoder.fit_transform([year])[0]\n",
        "month_encoded = month_encoder.fit_transform([month])[0]\n",
        "\n",
        "# Create input data for prediction\n",
        "input_data = pd.DataFrame({\n",
        "    'MONATSZAHL': [category_encoded],\n",
        "    'AUSPRÄGUNG': [accident_type_encoded],\n",
        "    'JAHR': [year_encoded],\n",
        "    'MONAT': [month_encoded]\n",
        "})\n",
        "\n",
        "# Train a new RandomForestRegressor model using the f_df DataFrame\n",
        "#features = ['Category', 'Accident_type', 'Year', 'Month']\n",
        "features = ['MONATSZAHL', 'AUSPRÄGUNG', 'JAHR', 'MONAT']\n",
        "X = f_df[features].copy()\n",
        "\n",
        "# Encode categorical features\n",
        "X['MONATSZAHL'] = X['MONATSZAHL'].map(cat_mapping)\n",
        "X['AUSPRÄGUNG'] = X['AUSPRÄGUNG'].map(accid_mapping)\n",
        "\n",
        "# Convert numerical features to numeric data types\n",
        "X['JAHR'] = X['JAHR'].astype(int)\n",
        "X['MONAT'] = X['MONAT'].astype(int)\n",
        "\n",
        "y = f_df['WERT'].astype(float)  # Convert target column to float\n",
        "\n",
        "rf_model = RandomForestRegressor()\n",
        "rf_model.fit(X, y)\n",
        "\n",
        "# Make predictions\n",
        "prediction = rf_model.predict(input_data)\n",
        "\n",
        "# Display the predicted value\n",
        "print(f\"Predicted value: {prediction[0]}\")\n",
        "\n",
        "# Save the trained model to a file\n",
        "joblib.dump(rf_model, '/content/drive/MyDrive/DPS-challenge/DPS-Model.pkl')\n"
      ],
      "metadata": {
        "colab": {
          "base_uri": "https://localhost:8080/"
        },
        "id": "i0-sNe-eF4sX",
        "outputId": "9e60c435-3bcf-4fc9-b695-41cf938f108f"
      },
      "execution_count": null,
      "outputs": [
        {
          "output_type": "stream",
          "name": "stdout",
          "text": [
            "Predicted value: 61.92\n"
          ]
        },
        {
          "output_type": "execute_result",
          "data": {
            "text/plain": [
              "['/content/drive/MyDrive/DPS-challenge/DPS-Model.pkl']"
            ]
          },
          "metadata": {},
          "execution_count": 21
        }
      ]
    },
    {
      "cell_type": "code",
      "source": [
        "from sklearn.metrics import mean_squared_error, mean_absolute_error, r2_score\n",
        "\n",
        "# Make predictions\n",
        "prediction = rf_model.predict(X)\n",
        "\n",
        "# Calculate evaluation metrics\n",
        "mse = mean_squared_error(y, prediction)\n",
        "mae = mean_absolute_error(y, prediction)\n",
        "r2 = r2_score(y, prediction)\n",
        "\n",
        "# Display the evaluation metrics\n",
        "print(f\"Mean Squared Error (MSE): {mse}\")\n",
        "print(f\"Mean Absolute Error (MAE): {mae}\")\n",
        "print(f\"R-squared (R^2): {r2}\")\n"
      ],
      "metadata": {
        "id": "ZFjitNuxF43a",
        "colab": {
          "base_uri": "https://localhost:8080/"
        },
        "outputId": "94b1969f-7b11-4177-f0d3-61b6de6c326c"
      },
      "execution_count": null,
      "outputs": [
        {
          "output_type": "stream",
          "name": "stdout",
          "text": [
            "Mean Squared Error (MSE): 4579.03787818832\n",
            "Mean Absolute Error (MAE): 33.44654350417163\n",
            "R-squared (R^2): 0.9967044434288065\n"
          ]
        }
      ]
    },
    {
      "cell_type": "code",
      "source": [],
      "metadata": {
        "id": "X3Cyzud74o0U"
      },
      "execution_count": null,
      "outputs": []
    }
  ]
}